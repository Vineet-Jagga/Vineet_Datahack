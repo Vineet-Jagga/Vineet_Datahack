{
 "cells": [
  {
   "cell_type": "code",
   "execution_count": 1,
   "id": "8dc8fb00",
   "metadata": {},
   "outputs": [],
   "source": [
    "import pandas as pd\n",
    "from sklearn.model_selection import train_test_split\n",
    "from sklearn.compose import ColumnTransformer\n",
    "from sklearn.pipeline import Pipeline\n",
    "from sklearn.impute import SimpleImputer\n",
    "from sklearn.preprocessing import OneHotEncoder, StandardScaler\n",
    "from sklearn.decomposition import PCA\n",
    "from sklearn.multioutput import MultiOutputClassifier\n",
    "from xgboost import XGBClassifier\n",
    "from sklearn.metrics import roc_auc_score\n",
    "\n",
    "# Load datasets\n",
    "features_train = pd.read_csv(\"training_set_features.csv\")\n",
    "labels_train = pd.read_csv(\"training_set_labels.csv\")\n",
    "features_test = pd.read_csv(\"test_set_features.csv\")\n"
   ]
  },
  {
   "cell_type": "code",
   "execution_count": 7,
   "id": "49f9ec12",
   "metadata": {},
   "outputs": [],
   "source": [
    "# Create an empty dataframe for predictions\n",
    "prediction_df = pd.DataFrame({'respondent_id': features_test['respondent_id']})\n",
    "# Merge training features and labels\n",
    "merged_train_data = features_train.merge(labels_train, on=\"respondent_id\")\n",
    "\n",
    "# Separate features (X) and target variables (y)\n",
    "X = merged_train_data.drop(columns=[\"respondent_id\", \"xyz_vaccine\", \"seasonal_vaccine\"])\n",
    "y = merged_train_data[[\"xyz_vaccine\", \"seasonal_vaccine\"]]\n"
   ]
  },
  {
   "cell_type": "code",
   "execution_count": 8,
   "id": "ebc4aa52",
   "metadata": {},
   "outputs": [],
   "source": [
    "# Categorize feature types\n",
    "cat_features = X.select_dtypes(include=[\"object\", \"category\"]).columns\n",
    "num_features = X.select_dtypes(include=['int64', 'float64']).columns\n",
    "\n",
    "# Preprocessing pipelines\n",
    "cat_pipeline = Pipeline([\n",
    "    (\"imputer\", SimpleImputer(strategy=\"most_frequent\")),\n",
    "    (\"onehot\", OneHotEncoder(handle_unknown=\"ignore\")),\n",
    "])\n",
    "\n",
    "num_pipeline = Pipeline([\n",
    "    (\"imputer\", SimpleImputer(strategy=\"median\")),\n",
    "    (\"scaler\", StandardScaler()),\n",
    "    (\"pca\", PCA(n_components=0.95))  # PCA for dimensionality reduction\n",
    "])\n"
   ]
  },
  {
   "cell_type": "code",
   "execution_count": 9,
   "id": "e082cfa2",
   "metadata": {},
   "outputs": [],
   "source": [
    "# Combined preprocessing\n",
    "preprocessor = ColumnTransformer([\n",
    "    (\"numerical\", num_pipeline, num_features),\n",
    "    (\"categorical\", cat_pipeline, cat_features),\n",
    "])\n",
    "\n",
    "# Define the XGBoost model with regularization\n",
    "xgb_model = XGBClassifier(\n",
    "    use_label_encoder=False,\n",
    "    eval_metric=\"logloss\",\n",
    "    random_state=42,\n",
    "    reg_lambda=1.0,  # L2 regularization\n",
    "    reg_alpha=0.1    # L1 regularization\n",
    ")\n",
    "multi_target_model = MultiOutputClassifier(xgb_model)\n"
   ]
  },
  {
   "cell_type": "code",
   "execution_count": 5,
   "id": "c15bbf44",
   "metadata": {},
   "outputs": [
    {
     "data": {
      "text/plain": [
       "Pipeline(steps=[('preprocessing',\n",
       "                 ColumnTransformer(transformers=[('numerical',\n",
       "                                                  Pipeline(steps=[('imputer',\n",
       "                                                                   SimpleImputer(strategy='median')),\n",
       "                                                                  ('scaler',\n",
       "                                                                   StandardScaler()),\n",
       "                                                                  ('pca',\n",
       "                                                                   PCA(n_components=0.95))]),\n",
       "                                                  Index(['xyz_concern', 'xyz_knowledge', 'behavioral_antiviral_meds',\n",
       "       'behavioral_avoidance', 'behavioral_face_mask', 'behavioral_wash_hands',\n",
       "       'behavioral_lar...\n",
       "                                                               grow_policy=None,\n",
       "                                                               importance_type=None,\n",
       "                                                               interaction_constraints=None,\n",
       "                                                               learning_rate=None,\n",
       "                                                               max_bin=None,\n",
       "                                                               max_cat_threshold=None,\n",
       "                                                               max_cat_to_onehot=None,\n",
       "                                                               max_delta_step=None,\n",
       "                                                               max_depth=None,\n",
       "                                                               max_leaves=None,\n",
       "                                                               min_child_weight=None,\n",
       "                                                               missing=nan,\n",
       "                                                               monotone_constraints=None,\n",
       "                                                               multi_strategy=None,\n",
       "                                                               n_estimators=None,\n",
       "                                                               n_jobs=None,\n",
       "                                                               num_parallel_tree=None,\n",
       "                                                               random_state=42, ...)))])"
      ]
     },
     "execution_count": 5,
     "metadata": {},
     "output_type": "execute_result"
    }
   ],
   "source": [
    "# Complete pipeline\n",
    "full_pipeline = Pipeline([\n",
    "    (\"preprocessing\", preprocessor),\n",
    "    (\"model\", multi_target_model),\n",
    "])\n",
    "\n",
    "# Split training data\n",
    "X_train, X_val, y_train, y_val = train_test_split(X, y, test_size=0.2, random_state=42)\n",
    "\n",
    "# Train the model\n",
    "full_pipeline.fit(X_train, y_train)\n"
   ]
  },
  {
   "cell_type": "code",
   "execution_count": 10,
   "id": "ebbfde81",
   "metadata": {},
   "outputs": [
    {
     "name": "stdout",
     "output_type": "stream",
     "text": [
      "Mean ROC AUC: 0.8191\n"
     ]
    }
   ],
   "source": [
    "# Predict on validation set\n",
    "y_prob_val = full_pipeline.predict_proba(X_val)\n",
    "\n",
    "# Evaluate using Mean ROC AUC\n",
    "roc_auc_xyz = roc_auc_score(y_val[\"xyz_vaccine\"], y_prob_val[0][:, 1])\n",
    "roc_auc_seasonal = roc_auc_score(y_val[\"seasonal_vaccine\"], y_prob_val[1][:, 1])\n",
    "mean_roc_auc = (roc_auc_xyz + roc_auc_seasonal) / 2\n",
    "\n",
    "print(f\"Mean ROC AUC: {mean_roc_auc:.4f}\")\n",
    "\n",
    "# Predict on test set\n",
    "test_probs = full_pipeline.predict_proba(features_test.drop(columns=\"respondent_id\"))\n",
    "\n",
    "# Prepare prediction file\n",
    "prediction_df['xyz_vaccine'] = test_probs[0][:, 1]\n",
    "prediction_df['seasonal_vaccine'] = test_probs[1][:, 1]\n",
    "prediction_df.to_csv(\"prediction.csv\", index=False)  \n"
   ]
  },
  {
   "cell_type": "code",
   "execution_count": null,
   "id": "fb103c4e",
   "metadata": {},
   "outputs": [],
   "source": []
  }
 ],
 "metadata": {
  "kernelspec": {
   "display_name": "Python 3 (ipykernel)",
   "language": "python",
   "name": "python3"
  },
  "language_info": {
   "codemirror_mode": {
    "name": "ipython",
    "version": 3
   },
   "file_extension": ".py",
   "mimetype": "text/x-python",
   "name": "python",
   "nbconvert_exporter": "python",
   "pygments_lexer": "ipython3",
   "version": "3.9.12"
  }
 },
 "nbformat": 4,
 "nbformat_minor": 5
}
